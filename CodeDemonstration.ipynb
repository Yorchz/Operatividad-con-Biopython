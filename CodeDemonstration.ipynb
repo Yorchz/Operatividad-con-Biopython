{
 "cells": [
  {
   "metadata": {
    "ExecuteTime": {
     "end_time": "2024-10-31T16:56:31.061087Z",
     "start_time": "2024-10-31T16:56:30.912699Z"
    }
   },
   "cell_type": "code",
   "source": [
    "from io import StringIO\n",
    "from Bio import SeqIO\n",
    "from src.config.Config import Config\n",
    "from src.orchestrator.MainOrchestrator import MainOrchestrator"
   ],
   "id": "ec88680645d3daf5",
   "outputs": [],
   "execution_count": 1
  },
  {
   "metadata": {},
   "cell_type": "markdown",
   "source": [
    "## Operativdad con Biopython \n",
    "\n",
    "Este proyecto utiliza Biopython para analizar secuencias de ADN en formato FASTA, calculando el contenido de GC y traduciendo cada secuencia a aminoácidos. El flujo de trabajo incluye la adquisición de un archivo FASTA, el cálculo del contenido de GC, la traducción de las secuencias (asumiendo que son codificantes) y la creación de un nuevo archivo FASTA de salida con las secuencias de aminoácidos, preservando los identificadores originales. En este jupyter notebook nos centraremos en ver los resultados y el uso del código implementado.\n",
    "\n",
    "*Objetivos:*\n",
    "\n",
    "* Calcular el contenido de GC de cada secuencia de ADN.\n",
    "* Traducir las secuencias a aminoácidos.\n",
    "* Guardar las secuencias de aminoácidos en un archivo FASTA de salida.\n"
   ],
   "id": "c15519722376b16"
  },
  {
   "metadata": {},
   "cell_type": "markdown",
   "source": [
    "### Estructura del proyecto\n",
    "```\n",
    "+---------------------+          +---------------------+          +---------------------+\n",
    "|   MainOrchestrator  |          | DownloaderOrchestrator |       | ReaderOrchestrator  |\n",
    "+---------------------+          +---------------------+          +---------------------+\n",
    "| - downloader        |<-------->| - download_files    |<------->| - read_sequences     |\n",
    "| - gc_calculator     |          +---------------------+          +---------------------+\n",
    "| - reader            |\n",
    "+---------------------+               |\n",
    "                                      |\n",
    "                       +---------------------+        +---------------------+\n",
    "                       | Downloader          |        | BaseFastaReader     |\n",
    "                       +---------------------+        +---------------------+\n",
    "                       | - download()        |        | - read()            |\n",
    "                       +---------------------+        +---------------------+\n",
    "                               |                               |\n",
    "                               |                               |\n",
    "                       +---------------------+        +---------------------+\n",
    "                       | Validator           |        | FastaBatchReader    |\n",
    "                       +---------------------+        +---------------------+\n",
    "                       | - validate()        |        | - read_batch()      |\n",
    "                       +---------------------+        +---------------------+\n",
    "\n",
    "                                        +---------------------+          \n",
    "                                        |   GCOrchestrator    |          \n",
    "                                        +---------------------+          \n",
    "                                        | - calculate_gc      |\n",
    "                                        +---------------------+\n",
    "                                                 |\n",
    "                                                 |\n",
    "                                        +---------------------+\n",
    "                                        |   Utils             |\n",
    "                                        +---------------------+\n",
    "                                        | - calculate_gc()    |\n",
    "                                        +---------------------+\n",
    "```"
   ],
   "id": "639d889b90c9ca41"
  },
  {
   "metadata": {
    "ExecuteTime": {
     "end_time": "2024-10-31T16:56:31.065721Z",
     "start_time": "2024-10-31T16:56:31.062107Z"
    }
   },
   "cell_type": "code",
   "source": [
    "FASTA_FILE=\"NM_001301717.fasta\"\n",
    "OUTPUT_FILE=\"AMINO_ACIDS.fasta\""
   ],
   "id": "58d70eef3acfb8db",
   "outputs": [],
   "execution_count": 2
  },
  {
   "metadata": {},
   "cell_type": "markdown",
   "source": [
    "### Lectura del fichero `.fasta`\n",
    "\n",
    "Al ejecutar el proceso de carga de un archivo FASTA, el flujo de código comienza en la clase `MainOrchestrator`, que centraliza y coordina las operaciones principales. Cuando un archivo FASTA es cargado, se delega esta tarea a `ReaderOrchestrator`, que se encarga de gestionar la lectura del archivo y de organizar el proceso de extracción de datos.\n",
    "\n",
    "- **MainOrchestrator**: Esta clase inicia el proceso, definiendo los componentes y organizando los pasos. A través de su instancia de `ReaderOrchestrator`, llama al método `read_sequences` para cargar el archivo FASTA.\n",
    "\n",
    "- **ReaderOrchestrator**: Esta clase es responsable de la lógica específica de lectura. Su función `read_sequences` gestiona el acceso al archivo FASTA, utilizando instancias de `BaseFastaReader` o `FastaBatchReader` para procesar las secuencias según el formato y la configuración deseados.\n",
    "\n",
    "- **BaseFastaReader** y **FastaBatchReader**: Estas clases leen las secuencias del archivo. `BaseFastaReader` puede encargarse de la lectura simple de secuencias, mientras que `FastaBatchReader` maneja la lectura por lotes si se requiere procesar grandes volúmenes de secuencias en paralelo o en grupos. Ambas clases implementan métodos como `read` o `read_batch`, que devuelven las secuencias en un formato accesible para el resto del programa.\n",
    "\n",
    "A medida que `ReaderOrchestrator` lee las secuencias, estas se devuelven a `MainOrchestrator`, que puede delegar a otros módulos (como el `GCOrchestrator`) para calcular el contenido de GC.\n"
   ],
   "id": "e65492be4a5e709c"
  },
  {
   "metadata": {
    "ExecuteTime": {
     "end_time": "2024-10-31T16:56:31.088202Z",
     "start_time": "2024-10-31T16:56:31.066732Z"
    }
   },
   "cell_type": "code",
   "source": [
    "orchestrator = MainOrchestrator(Config)\n",
    "fastaId, content = orchestrator.execute_read_single(FASTA_FILE)\n",
    "print(f\"El identificador del fichero fasta es {fastaId} y su contenido \\n es: {content}\")"
   ],
   "id": "b204382a100737bc",
   "outputs": [
    {
     "name": "stdout",
     "output_type": "stream",
     "text": [
      "El identificador del fichero fasta es NM_001301717.2 y su contenido \n",
      " es: CTCTAGATGAGTCAGTGGAGGGCGGGTGGAGCGTTGAACCGTGAAGAGTGTGGTTGGGCGTAAACGTGGACTTAAACTCAGGAGCTAAGGGGGAAACCAATGAAAAGCGTGCTGGTGGTGGCTCTCCTTGTCATTTTCCAGGTATGCCTGTGTCAAGATGAGGTCACGGACGATTACATCGGAGACAACACCACAGTGGACTACACTTTGTTCGAGTCTTTGTGCTCCAAGAAGGACGTGCGGAACTTTAAAGCCTGGTTCCTCCCTATCATGTACTCCATCATTTGTTTCGTGGGCCTACTGGGCAATGGGCTGGTCGTGTTGACCTATATCTATTTCAAGAGGCTCAAGACCATGACCGATACCTACCTGCTCAACCTGGCGGTGGCAGACATCCTCTTCCTCCTGACCCTTCCCTTCTGGGCCTACAGCGCGGCCAAGTCCTGGGTCTTCGGTGTCCACTTTTGCAAGCTCATCTTTGCCATCTACAAGATGAGCTTCTTCAGTGGCATGCTCCTACTTCTTTGCATCAGCATTGACCGCTACGTGGCCATCGTCCAGGCTGTCTCAGCTCACCGCCACCGTGCCCGCGTCCTTCTCATCAGCAAGCTGTCCTGTGTGGGCATCTGGATACTAGCCACAGTGCTCTCCATCCCAGAGCTCCTGTACAGTGACCTCCAGAGGAGCAGCAGTGAGCAAGCGATGCGATGCTCTCTCATCACAGAGCATGTGGAGGCCTTTATCACCATCCAGGTGGCCCAGATGGTGATCGGCTTTCTGGTCCCCCTGCTGGCCATGAGCTTCTGTTACCTTGTCATCATCCGCACCCTGCTCCAGGCACGCAACTTTGAGCGCAACAAGGCCATCAAGGTGATCATCGCTGTGGTCGTGGTCTTCATAGTCTTCCAGCTGCCCTACAATGGGGTGGTCCTGGCCCAGACGGTGGCCAACTTCAACATCACCAGTAGCACCTGTGAGCTCAGTAAGCAACTCAACATCGCCTACGACGTCACCTACAGCCTGGCCTGCGTCCGCTGCTGCGTCAACCCTTTCTTGTACGCCTTCATCGGCGTCAAGTTCCGCAACGATCTCTTCAAGCTCTTCAAGGACCTGGGCTGCCTCAGCCAGGAGCAGCTCCGGCAGTGGTCTTCCTGTCGGCACATCCGGCGCTCCTCCATGAGTGTGGAGGCCGAGACCACCACCACCTTCTCCCCATAGGCGACTCTTCTGCCTGGACTAGAGGGACCTCTCCCAGGGTCCCTGGGGTGGGGATAGGGAGCAGATGCAATGACTCAGGACATCCCCCCGCCAAAAGCTGCTCAGGGAAAAGCAGCTCTCCCCTCAGAGTGCAAGCCCCTGCTCCAGAAGATAGCTTCACCCCAATCCCAGCTACCTCAACCAATGCCAAAAAAAGACAGGGCTGATAAGCTAACACCAGACAGACAACACTGGGAAACAGAGGCTATTGTCCCCTAAACCAAAAACTGAAAGTGAAAGTCCAGAAACTGTTCCCACCTGCTGGAGTGAAGGGGCCAAGGAGGGTGAGTGCAAGGGGCGTGGGAGTGGCCTGAAGAGTCCTCTGAATGAACCTTCTGGCCTCCCACAGACTCAAATGCTCAGACCAGCTCTTCCGAAAACCAGGCCTTATCTCCAAGACCAGAGATAGTGGGGAGACTTCTTGGCTTGGTGAGGAAAAGCGGACATCAGCTGGTCAAACAAACTCTCTGAACCCCTCCCTCCATCGTTTTCTTCACTGTCCTCCAAGCCAGCGGGAATGGCAGCTGCCACGCCGCCCTAAAAGCACACTCATCCCCTCACTTGCCGCGTCGCCCTCCCAGGCTCTCAACAGGGGAGAGTGTGGTGTTTCCTGCAGGCCAGGCCAGCTGCCTCCGCGTGATCAAAGCCACACTCTGGGCTCCAGAGTGGGGATGACATGCACTCAGCTCTTGGCTCCACTGGGATGGGAGGAGAGGACAAGGGAAATGTCAGGGGCGGGGAGGGTGACAGTGGCCGCCCAAGGCCCACGAGCTTGTTCTTTGTTCTTTGTCACAGGGACTGAAAACCTCTCCTCATGTTCTGCTTTCGATTCGTTAAGAGAGCAACATTTTACCCACACACAGATAAAGTTTTCCCTTGAGGAAACAACAGCTTTAAAAGAAAAAGAAAAAAAAAGTCTTTGGTAAATGGCAAA\n"
     ]
    }
   ],
   "execution_count": 3
  },
  {
   "metadata": {},
   "cell_type": "markdown",
   "source": [
    "### Calcular el contenido de GC de cada secuencia\n",
    "\n",
    "El cálculo del contenido de GC en el proyecto sigue un flujo bien definido, coordinado principalmente por la clase `GCOrchestrator`. Esta clase se encarga de realizar los cálculos de GC para las secuencias de ADN, ofreciendo una implementación modular y fácil de mantener.\n",
    "\n",
    "Existen dos implementaciones para el cálculo del contenido de GC:\n",
    "1. Una implementación propia desarrollada específicamente para el proyecto.\n",
    "2. Una implementación que hace uso de funciones integradas de la biblioteca Biopython, utilizada para verificar la exactitud de la implementación propia.\n",
    "\n",
    "#### Flujo del cálculo de GC\n",
    "\n",
    "- **GCOrchestrator**: Esta clase orquesta el proceso de cálculo del contenido de GC. Su método principal, `calculate_gc`, recibe las secuencias de ADN procesadas por `ReaderOrchestrator` y delega el cálculo de GC a dos métodos distintos: uno que utiliza la implementación propia y otro que emplea Biopython. Al hacer esto, se asegura que ambas implementaciones se ejecuten en paralelo, permitiendo así comparar resultados y verificar la precisión de la implementación propia.\n",
    "\n",
    "- **Utils**: Esta clase contiene la lógica de la implementación propia del cálculo de GC. En el método `calculate_gc`, se cuenta la cantidad de bases G y C en cada secuencia y se calcula el porcentaje de GC dividiendo esta cantidad por el total de bases. Esta implementación fue diseñada para ser independiente de cualquier biblioteca de terceros, lo que facilita su personalización y control.\n",
    "\n",
    "- **Comparación de resultados**: `GCOrchestrator` compara los resultados de ambas implementaciones (propia y Biopython) para validar que la implementación propia esté funcionando correctamente. Esta comparación ayuda a asegurar la precisión de los cálculos y sirve como verificación adicional.\n",
    "\n",
    "Este flujo modular permite una verificación constante de la exactitud de los cálculos, mientras se mantienen separados los componentes principales para facilitar el mantenimiento y las futuras mejoras.\n"
   ],
   "id": "f75e68fd46f49e59"
  },
  {
   "metadata": {
    "ExecuteTime": {
     "end_time": "2024-10-31T17:00:44.614803Z",
     "start_time": "2024-10-31T17:00:44.608289Z"
    }
   },
   "cell_type": "code",
   "source": "orchestrator.calculate_and_compare_gc_content(FASTA_FILE)",
   "id": "b3e15fc9e3058ea1",
   "outputs": [
    {
     "name": "stdout",
     "output_type": "stream",
     "text": [
      "Custom GC Content for NM_001301717.2: 54.77%\n",
      "Biopython GC Content for NM_001301717.2: 54.77%\n",
      "Ambos métodos producen resultados idénticos -> resultado biopython (54.769511638521216), resultado implementación (54.769511638521216)\n"
     ]
    }
   ],
   "execution_count": 4
  },
  {
   "metadata": {},
   "cell_type": "markdown",
   "source": "### Traducir las secuencias a aminoácidos.",
   "id": "7f1a4b60f577e193"
  },
  {
   "metadata": {},
   "cell_type": "code",
   "outputs": [],
   "execution_count": null,
   "source": "",
   "id": "9b2d3bef91d8143e"
  },
  {
   "metadata": {},
   "cell_type": "markdown",
   "source": [
    "### Guardar las secuencias de aminoácidos en un archivo FASTA de salida.\n",
    "El guardado de las secuencias de aminoácidos generadas se gestiona mediante un conjunto de clases que garantizan que las secuencias se almacenen en un archivo FASTA manteniendo los identificadores y descripciones originales. Este flujo modular permite manejar el guardado de las secuencias de forma eficiente y organizada.\n",
    "\n",
    "### Flujo para el Guardado de Secuencias de Aminoácidos\n",
    "\n",
    "- **MainOrchestrator**: Después de traducir las secuencias de ADN a aminoácidos, `MainOrchestrator` delega el proceso de guardado a `SaverOrchestrator`, que coordina el guardado en el formato adecuado.\n",
    "\n",
    "- **SaverOrchestrator**: Esta clase orquesta el proceso de guardado de las secuencias de aminoácidos en un archivo FASTA. `SaverOrchestrator` recibe las secuencias traducidas y llama a `FastaSaver` para almacenar cada secuencia en el formato FASTA, preservando la estructura y la información original del archivo de entrada.\n",
    "\n",
    "- **FastaSaver**: Esta clase contiene la lógica específica para escribir las secuencias de aminoácidos en un archivo FASTA. Su método `save_to_fasta` toma cada secuencia de aminoácidos, junto con su identificador y descripción, y las guarda en el archivo de salida. `FastaSaver` garantiza que las secuencias se guarden correctamente y respeta el formato FASTA, permitiendo una fácil reutilización de los datos en otras aplicaciones.\n",
    "\n",
    "Este flujo modular asegura que las secuencias de aminoácidos se almacenen correctamente en el formato adecuado, facilitando la manipulación y almacenamiento de datos en bioinformática y garantizando la precisión de la información almacenada.\n"
   ],
   "id": "b7237470262e1ceb"
  },
  {
   "metadata": {},
   "cell_type": "code",
   "outputs": [],
   "execution_count": null,
   "source": "orchestrator.write_proteins_to_fasta(protein_records, OUTPUT_FILE)",
   "id": "987077056e0d7233"
  }
 ],
 "metadata": {
  "kernelspec": {
   "display_name": "Python 3",
   "language": "python",
   "name": "python3"
  },
  "language_info": {
   "codemirror_mode": {
    "name": "ipython",
    "version": 2
   },
   "file_extension": ".py",
   "mimetype": "text/x-python",
   "name": "python",
   "nbconvert_exporter": "python",
   "pygments_lexer": "ipython2",
   "version": "2.7.6"
  }
 },
 "nbformat": 4,
 "nbformat_minor": 5
}
